{
  "nbformat": 4,
  "nbformat_minor": 0,
  "metadata": {
    "colab": {
      "provenance": []
    },
    "kernelspec": {
      "name": "python3",
      "display_name": "Python 3"
    },
    "language_info": {
      "name": "python"
    }
  },
  "cells": [
    {
      "cell_type": "code",
      "source": [
        "!pip install keras_preprocessing"
      ],
      "metadata": {
        "colab": {
          "base_uri": "https://localhost:8080/"
        },
        "id": "GOv6UZ6t8bX6",
        "outputId": "ab98a946-93db-4341-b691-c092f7ef32bf"
      },
      "execution_count": 2,
      "outputs": [
        {
          "output_type": "stream",
          "name": "stdout",
          "text": [
            "Looking in indexes: https://pypi.org/simple, https://us-python.pkg.dev/colab-wheels/public/simple/\n",
            "Collecting keras_preprocessing\n",
            "  Downloading Keras_Preprocessing-1.1.2-py2.py3-none-any.whl (42 kB)\n",
            "\u001b[2K     \u001b[90m━━━━━━━━━━━━━━━━━━━━━━━━━━━━━━━━━━━━━━━━\u001b[0m \u001b[32m42.6/42.6 kB\u001b[0m \u001b[31m4.7 MB/s\u001b[0m eta \u001b[36m0:00:00\u001b[0m\n",
            "\u001b[?25hRequirement already satisfied: numpy>=1.9.1 in /usr/local/lib/python3.10/dist-packages (from keras_preprocessing) (1.22.4)\n",
            "Requirement already satisfied: six>=1.9.0 in /usr/local/lib/python3.10/dist-packages (from keras_preprocessing) (1.16.0)\n",
            "Installing collected packages: keras_preprocessing\n",
            "Successfully installed keras_preprocessing-1.1.2\n"
          ]
        }
      ]
    },
    {
      "cell_type": "code",
      "source": [
        "import pandas as pd\n",
        "import re\n",
        "from keras.preprocessing.text import Tokenizer\n",
        "from keras_preprocessing.sequence import pad_sequences\n",
        "import numpy as np\n",
        "congress_test = pd.read_csv('congress_test.csv')\n",
        "bjp_test = pd.read_csv('bjp_test.csv')\n",
        "congress_test =congress_test[:2000]\n",
        "bjp_test = bjp_test[0:2000]\n",
        "\n",
        "congress_test[0:5]"
      ],
      "metadata": {
        "colab": {
          "base_uri": "https://localhost:8080/",
          "height": 600
        },
        "id": "5dSLLSWPGzaI",
        "outputId": "cfe5b265-9a32-4258-f0fa-75ee3936e424"
      },
      "execution_count": 4,
      "outputs": [
        {
          "output_type": "execute_result",
          "data": {
            "text/plain": [
              "             id                      created_at  \\\n",
              "0  1.120000e+18  Sun Apr 21 23:49:57 +0000 2019   \n",
              "1  1.120000e+18  Sun Apr 21 23:43:58 +0000 2019   \n",
              "2  1.120000e+18  Sun Apr 21 23:36:50 +0000 2019   \n",
              "3  1.120000e+18  Sun Apr 21 23:35:11 +0000 2019   \n",
              "4  1.120000e+18  Sun Apr 21 23:31:52 +0000 2019   \n",
              "\n",
              "                                              source  \\\n",
              "0  <a href=\"http://twitter.com/download/iphone\" r...   \n",
              "1  <a href=\"http://twitter.com/download/android\" ...   \n",
              "2  <a href=\"http://twitter.com\" rel=\"nofollow\">Tw...   \n",
              "3  <a href=\"http://twitter.com/download/iphone\" r...   \n",
              "4  <a href=\"http://twitter.com/download/iphone\" r...   \n",
              "\n",
              "                                       original_text  \\\n",
              "0  RT @mathrubhumieng: Felt excited when Rahul Un...   \n",
              "1  RT @TheRealMukeshK: Here is UK #CompaniesHouse...   \n",
              "2  Indian voters when casting ballot, remember:\\r...   \n",
              "3  RT @TheRealMukeshK: Here is UK #CompaniesHouse...   \n",
              "4  @srivatsayb @UrbanXXpat Strange is our #Democr...   \n",
              "\n",
              "                                          clean_text  \\\n",
              "0  RT mathrubhumieng Felt excited Rahul Uncle hug...   \n",
              "1  RT TheRealMukeshK Here UK CompaniesHouse filin...   \n",
              "2  Indian voters casting ballot remember Ur respo...   \n",
              "3  RT TheRealMukeshK Here UK CompaniesHouse filin...   \n",
              "4  srivatsayb UrbanXXpat Strange Democracy RahulG...   \n",
              "\n",
              "                                      sentiment  polarity  subjectivity lang  \\\n",
              "0  Sentiment(polarity=0.375, subjectivity=0.75)     0.375         0.750   en   \n",
              "1     Sentiment(polarity=0.0, subjectivity=0.0)     0.000         0.000   en   \n",
              "2   Sentiment(polarity=0.0, subjectivity=0.125)     0.000         0.125   en   \n",
              "3     Sentiment(polarity=0.0, subjectivity=0.0)     0.000         0.000   en   \n",
              "4  Sentiment(polarity=-0.05, subjectivity=0.15)    -0.050         0.150   en   \n",
              "\n",
              "   favorite_count  retweet_count original_author possibly_sensitive  \\\n",
              "0             0.0            1.0       ManuParel              False   \n",
              "1             0.0         1449.0   rohit_thakkar                NaN   \n",
              "2             0.0            0.0          rasikv                NaN   \n",
              "3             0.0         1449.0   krishnarajJGD                NaN   \n",
              "4             0.0            0.0      DrSundara3                NaN   \n",
              "\n",
              "                      hashtags           user_mentions      place  \\\n",
              "0     RahulGandhi, mathrubhumi          mathrubhumieng      Dubai   \n",
              "1  CompaniesHouse, RahulGandhi          TheRealMukeshK        NaN   \n",
              "2                  SoniaGandhi                     NaN  Melbourne   \n",
              "3  CompaniesHouse, RahulGandhi          TheRealMukeshK        NaN   \n",
              "4   Democracy, RahulGandhi, MP  srivatsayb, UrbanXXpat  Bangalore   \n",
              "\n",
              "  place_coord_boundaries  \n",
              "0                    NaN  \n",
              "1                    NaN  \n",
              "2                    NaN  \n",
              "3                    NaN  \n",
              "4                    NaN  "
            ],
            "text/html": [
              "\n",
              "  <div id=\"df-2738d7f0-82e6-48c7-9d6d-33dcc745310d\">\n",
              "    <div class=\"colab-df-container\">\n",
              "      <div>\n",
              "<style scoped>\n",
              "    .dataframe tbody tr th:only-of-type {\n",
              "        vertical-align: middle;\n",
              "    }\n",
              "\n",
              "    .dataframe tbody tr th {\n",
              "        vertical-align: top;\n",
              "    }\n",
              "\n",
              "    .dataframe thead th {\n",
              "        text-align: right;\n",
              "    }\n",
              "</style>\n",
              "<table border=\"1\" class=\"dataframe\">\n",
              "  <thead>\n",
              "    <tr style=\"text-align: right;\">\n",
              "      <th></th>\n",
              "      <th>id</th>\n",
              "      <th>created_at</th>\n",
              "      <th>source</th>\n",
              "      <th>original_text</th>\n",
              "      <th>clean_text</th>\n",
              "      <th>sentiment</th>\n",
              "      <th>polarity</th>\n",
              "      <th>subjectivity</th>\n",
              "      <th>lang</th>\n",
              "      <th>favorite_count</th>\n",
              "      <th>retweet_count</th>\n",
              "      <th>original_author</th>\n",
              "      <th>possibly_sensitive</th>\n",
              "      <th>hashtags</th>\n",
              "      <th>user_mentions</th>\n",
              "      <th>place</th>\n",
              "      <th>place_coord_boundaries</th>\n",
              "    </tr>\n",
              "  </thead>\n",
              "  <tbody>\n",
              "    <tr>\n",
              "      <th>0</th>\n",
              "      <td>1.120000e+18</td>\n",
              "      <td>Sun Apr 21 23:49:57 +0000 2019</td>\n",
              "      <td>&lt;a href=\"http://twitter.com/download/iphone\" r...</td>\n",
              "      <td>RT @mathrubhumieng: Felt excited when Rahul Un...</td>\n",
              "      <td>RT mathrubhumieng Felt excited Rahul Uncle hug...</td>\n",
              "      <td>Sentiment(polarity=0.375, subjectivity=0.75)</td>\n",
              "      <td>0.375</td>\n",
              "      <td>0.750</td>\n",
              "      <td>en</td>\n",
              "      <td>0.0</td>\n",
              "      <td>1.0</td>\n",
              "      <td>ManuParel</td>\n",
              "      <td>False</td>\n",
              "      <td>RahulGandhi, mathrubhumi</td>\n",
              "      <td>mathrubhumieng</td>\n",
              "      <td>Dubai</td>\n",
              "      <td>NaN</td>\n",
              "    </tr>\n",
              "    <tr>\n",
              "      <th>1</th>\n",
              "      <td>1.120000e+18</td>\n",
              "      <td>Sun Apr 21 23:43:58 +0000 2019</td>\n",
              "      <td>&lt;a href=\"http://twitter.com/download/android\" ...</td>\n",
              "      <td>RT @TheRealMukeshK: Here is UK #CompaniesHouse...</td>\n",
              "      <td>RT TheRealMukeshK Here UK CompaniesHouse filin...</td>\n",
              "      <td>Sentiment(polarity=0.0, subjectivity=0.0)</td>\n",
              "      <td>0.000</td>\n",
              "      <td>0.000</td>\n",
              "      <td>en</td>\n",
              "      <td>0.0</td>\n",
              "      <td>1449.0</td>\n",
              "      <td>rohit_thakkar</td>\n",
              "      <td>NaN</td>\n",
              "      <td>CompaniesHouse, RahulGandhi</td>\n",
              "      <td>TheRealMukeshK</td>\n",
              "      <td>NaN</td>\n",
              "      <td>NaN</td>\n",
              "    </tr>\n",
              "    <tr>\n",
              "      <th>2</th>\n",
              "      <td>1.120000e+18</td>\n",
              "      <td>Sun Apr 21 23:36:50 +0000 2019</td>\n",
              "      <td>&lt;a href=\"http://twitter.com\" rel=\"nofollow\"&gt;Tw...</td>\n",
              "      <td>Indian voters when casting ballot, remember:\\r...</td>\n",
              "      <td>Indian voters casting ballot remember Ur respo...</td>\n",
              "      <td>Sentiment(polarity=0.0, subjectivity=0.125)</td>\n",
              "      <td>0.000</td>\n",
              "      <td>0.125</td>\n",
              "      <td>en</td>\n",
              "      <td>0.0</td>\n",
              "      <td>0.0</td>\n",
              "      <td>rasikv</td>\n",
              "      <td>NaN</td>\n",
              "      <td>SoniaGandhi</td>\n",
              "      <td>NaN</td>\n",
              "      <td>Melbourne</td>\n",
              "      <td>NaN</td>\n",
              "    </tr>\n",
              "    <tr>\n",
              "      <th>3</th>\n",
              "      <td>1.120000e+18</td>\n",
              "      <td>Sun Apr 21 23:35:11 +0000 2019</td>\n",
              "      <td>&lt;a href=\"http://twitter.com/download/iphone\" r...</td>\n",
              "      <td>RT @TheRealMukeshK: Here is UK #CompaniesHouse...</td>\n",
              "      <td>RT TheRealMukeshK Here UK CompaniesHouse filin...</td>\n",
              "      <td>Sentiment(polarity=0.0, subjectivity=0.0)</td>\n",
              "      <td>0.000</td>\n",
              "      <td>0.000</td>\n",
              "      <td>en</td>\n",
              "      <td>0.0</td>\n",
              "      <td>1449.0</td>\n",
              "      <td>krishnarajJGD</td>\n",
              "      <td>NaN</td>\n",
              "      <td>CompaniesHouse, RahulGandhi</td>\n",
              "      <td>TheRealMukeshK</td>\n",
              "      <td>NaN</td>\n",
              "      <td>NaN</td>\n",
              "    </tr>\n",
              "    <tr>\n",
              "      <th>4</th>\n",
              "      <td>1.120000e+18</td>\n",
              "      <td>Sun Apr 21 23:31:52 +0000 2019</td>\n",
              "      <td>&lt;a href=\"http://twitter.com/download/iphone\" r...</td>\n",
              "      <td>@srivatsayb @UrbanXXpat Strange is our #Democr...</td>\n",
              "      <td>srivatsayb UrbanXXpat Strange Democracy RahulG...</td>\n",
              "      <td>Sentiment(polarity=-0.05, subjectivity=0.15)</td>\n",
              "      <td>-0.050</td>\n",
              "      <td>0.150</td>\n",
              "      <td>en</td>\n",
              "      <td>0.0</td>\n",
              "      <td>0.0</td>\n",
              "      <td>DrSundara3</td>\n",
              "      <td>NaN</td>\n",
              "      <td>Democracy, RahulGandhi, MP</td>\n",
              "      <td>srivatsayb, UrbanXXpat</td>\n",
              "      <td>Bangalore</td>\n",
              "      <td>NaN</td>\n",
              "    </tr>\n",
              "  </tbody>\n",
              "</table>\n",
              "</div>\n",
              "      <button class=\"colab-df-convert\" onclick=\"convertToInteractive('df-2738d7f0-82e6-48c7-9d6d-33dcc745310d')\"\n",
              "              title=\"Convert this dataframe to an interactive table.\"\n",
              "              style=\"display:none;\">\n",
              "        \n",
              "  <svg xmlns=\"http://www.w3.org/2000/svg\" height=\"24px\"viewBox=\"0 0 24 24\"\n",
              "       width=\"24px\">\n",
              "    <path d=\"M0 0h24v24H0V0z\" fill=\"none\"/>\n",
              "    <path d=\"M18.56 5.44l.94 2.06.94-2.06 2.06-.94-2.06-.94-.94-2.06-.94 2.06-2.06.94zm-11 1L8.5 8.5l.94-2.06 2.06-.94-2.06-.94L8.5 2.5l-.94 2.06-2.06.94zm10 10l.94 2.06.94-2.06 2.06-.94-2.06-.94-.94-2.06-.94 2.06-2.06.94z\"/><path d=\"M17.41 7.96l-1.37-1.37c-.4-.4-.92-.59-1.43-.59-.52 0-1.04.2-1.43.59L10.3 9.45l-7.72 7.72c-.78.78-.78 2.05 0 2.83L4 21.41c.39.39.9.59 1.41.59.51 0 1.02-.2 1.41-.59l7.78-7.78 2.81-2.81c.8-.78.8-2.07 0-2.86zM5.41 20L4 18.59l7.72-7.72 1.47 1.35L5.41 20z\"/>\n",
              "  </svg>\n",
              "      </button>\n",
              "      \n",
              "  <style>\n",
              "    .colab-df-container {\n",
              "      display:flex;\n",
              "      flex-wrap:wrap;\n",
              "      gap: 12px;\n",
              "    }\n",
              "\n",
              "    .colab-df-convert {\n",
              "      background-color: #E8F0FE;\n",
              "      border: none;\n",
              "      border-radius: 50%;\n",
              "      cursor: pointer;\n",
              "      display: none;\n",
              "      fill: #1967D2;\n",
              "      height: 32px;\n",
              "      padding: 0 0 0 0;\n",
              "      width: 32px;\n",
              "    }\n",
              "\n",
              "    .colab-df-convert:hover {\n",
              "      background-color: #E2EBFA;\n",
              "      box-shadow: 0px 1px 2px rgba(60, 64, 67, 0.3), 0px 1px 3px 1px rgba(60, 64, 67, 0.15);\n",
              "      fill: #174EA6;\n",
              "    }\n",
              "\n",
              "    [theme=dark] .colab-df-convert {\n",
              "      background-color: #3B4455;\n",
              "      fill: #D2E3FC;\n",
              "    }\n",
              "\n",
              "    [theme=dark] .colab-df-convert:hover {\n",
              "      background-color: #434B5C;\n",
              "      box-shadow: 0px 1px 3px 1px rgba(0, 0, 0, 0.15);\n",
              "      filter: drop-shadow(0px 1px 2px rgba(0, 0, 0, 0.3));\n",
              "      fill: #FFFFFF;\n",
              "    }\n",
              "  </style>\n",
              "\n",
              "      <script>\n",
              "        const buttonEl =\n",
              "          document.querySelector('#df-2738d7f0-82e6-48c7-9d6d-33dcc745310d button.colab-df-convert');\n",
              "        buttonEl.style.display =\n",
              "          google.colab.kernel.accessAllowed ? 'block' : 'none';\n",
              "\n",
              "        async function convertToInteractive(key) {\n",
              "          const element = document.querySelector('#df-2738d7f0-82e6-48c7-9d6d-33dcc745310d');\n",
              "          const dataTable =\n",
              "            await google.colab.kernel.invokeFunction('convertToInteractive',\n",
              "                                                     [key], {});\n",
              "          if (!dataTable) return;\n",
              "\n",
              "          const docLinkHtml = 'Like what you see? Visit the ' +\n",
              "            '<a target=\"_blank\" href=https://colab.research.google.com/notebooks/data_table.ipynb>data table notebook</a>'\n",
              "            + ' to learn more about interactive tables.';\n",
              "          element.innerHTML = '';\n",
              "          dataTable['output_type'] = 'display_data';\n",
              "          await google.colab.output.renderOutput(dataTable, element);\n",
              "          const docLink = document.createElement('div');\n",
              "          docLink.innerHTML = docLinkHtml;\n",
              "          element.appendChild(docLink);\n",
              "        }\n",
              "      </script>\n",
              "    </div>\n",
              "  </div>\n",
              "  "
            ]
          },
          "metadata": {},
          "execution_count": 4
        }
      ]
    },
    {
      "cell_type": "code",
      "source": [
        "def tweet_to_words( raw_review ):\n",
        "    # Remove non-letters        \n",
        "    letters_only = re.sub(\"[^a-zA-Z]\", \" \", str(raw_review))\n",
        "    tweet = re.sub('((www\\.[^\\s]+)|(https?://[^\\s]+))', 'URL', str(letters_only)) # remove URLs\n",
        "    tweet = re.sub('RT', ' ', str(tweet)) \n",
        "\n",
        "    #Convert to lower case, split into individual words\n",
        "    tweet = letters_only.lower().split()                             \n",
        "    \n",
        "    \n",
        "    \n",
        "    return( \" \".join(tweet))\n",
        "# Get the number of Tweets based on the dataframe column size\n",
        "num_tweets = 2000\n",
        "\n",
        "# Initialize an empty list to hold the clean reviews\n",
        "\n",
        "\n",
        "# Loop over each tweet; create an index i that goes from 0 to the length\n",
        "# of the tweet list\n",
        "def clean_test(dataframe):\n",
        "    clean_train_tweets = []\n",
        "    for i in range( 0, num_tweets ):\n",
        "        # Call function for each one, and add the result to the list of\n",
        "        clean_train_tweets.append( tweet_to_words(dataframe[i]))\n",
        "    return clean_train_tweets"
      ],
      "metadata": {
        "id": "jjY9egSTIpmh"
      },
      "execution_count": 5,
      "outputs": []
    },
    {
      "cell_type": "code",
      "source": [
        "congress_inputs = clean_test(congress_test['clean_text'])\n",
        "bjp_inputs = clean_test(bjp_test['clean_text'])"
      ],
      "metadata": {
        "id": "6cMGEokiI7Sg"
      },
      "execution_count": 6,
      "outputs": []
    },
    {
      "cell_type": "code",
      "source": [
        "def tokenze_data(data_inputs):\n",
        "        tokenizer = Tokenizer(nb_words=2000)\n",
        "        tokenizer.fit_on_texts(data_inputs)\n",
        "        sequences = tokenizer.texts_to_sequences(data_inputs)\n",
        "\n",
        "        word_index = tokenizer.word_index\n",
        "        print('Found %s unique tokens.' % len(word_index))\n",
        "        max_len = 200\n",
        "        data = pad_sequences(sequences, max_len)\n",
        "        print('Shape of data tensor:', data.shape)\n",
        "        indices = np.arange(data.shape[0])\n",
        "        np.random.shuffle(indices)\n",
        "        data = data[indices]\n",
        "        return data"
      ],
      "metadata": {
        "id": "GjpsxqVYI8tD"
      },
      "execution_count": 7,
      "outputs": []
    },
    {
      "cell_type": "code",
      "source": [
        "congress_inputs = tokenze_data(congress_inputs)\n",
        "bjp_inputs = tokenze_data(bjp_inputs)"
      ],
      "metadata": {
        "colab": {
          "base_uri": "https://localhost:8080/"
        },
        "id": "fVuUejQjJAZc",
        "outputId": "bd18c865-fbfd-4270-8536-b7b8a7a43b01"
      },
      "execution_count": 8,
      "outputs": [
        {
          "output_type": "stream",
          "name": "stdout",
          "text": [
            "Found 2588 unique tokens.\n",
            "Shape of data tensor: (2000, 200)\n",
            "Found 3459 unique tokens.\n",
            "Shape of data tensor: (2000, 200)\n"
          ]
        },
        {
          "output_type": "stream",
          "name": "stderr",
          "text": [
            "/usr/local/lib/python3.10/dist-packages/keras/preprocessing/text.py:246: UserWarning: The `nb_words` argument in `Tokenizer` has been renamed `num_words`.\n",
            "  warnings.warn(\n"
          ]
        }
      ]
    },
    {
      "cell_type": "code",
      "source": [
        "from keras.models import model_from_json\n",
        "# load json and create model\n",
        "json_file = open(\"Model_Bidir_LSTM.h5\", 'r')\n",
        "loaded_model_json = json_file.read()\n",
        "json_file.close()\n",
        "loaded_model = model_from_json(loaded_model_json)\n",
        "# load weights into new model\n",
        "loaded_model.load_weights(\"Weights_bidir_LSTM.h5\")\n",
        "print(\"Loaded model from disk\")"
      ],
      "metadata": {
        "colab": {
          "base_uri": "https://localhost:8080/"
        },
        "id": "7QhwhaO0JFrb",
        "outputId": "77020d3a-b8bb-4a27-a1ec-9c2f680e3b7c"
      },
      "execution_count": 9,
      "outputs": [
        {
          "output_type": "stream",
          "name": "stdout",
          "text": [
            "Loaded model from disk\n"
          ]
        }
      ]
    },
    {
      "cell_type": "code",
      "source": [
        "congress_prediction = loaded_model.predict(congress_inputs)\n",
        "bjp_prediction = loaded_model.predict(bjp_inputs)"
      ],
      "metadata": {
        "colab": {
          "base_uri": "https://localhost:8080/"
        },
        "id": "txK9eY39J1oA",
        "outputId": "e4e33635-0fb4-4cdb-bc6a-520e502aaed8"
      },
      "execution_count": 10,
      "outputs": [
        {
          "output_type": "stream",
          "name": "stdout",
          "text": [
            "63/63 [==============================] - 5s 78ms/step\n",
            "63/63 [==============================] - 6s 94ms/step\n"
          ]
        }
      ]
    },
    {
      "cell_type": "code",
      "source": [
        "congress_pred = (congress_prediction>0.5)\n",
        "bjp_pred = (bjp_prediction>0.5)\n",
        "def get_predictions(party_pred):\n",
        "    x = 0\n",
        "    for i in party_pred:\n",
        "        if(i[1]==True):\n",
        "            x+=1\n",
        "    return x\n"
      ],
      "metadata": {
        "id": "AoCGDB-tJ_bK"
      },
      "execution_count": 11,
      "outputs": []
    },
    {
      "cell_type": "code",
      "source": [
        "congress_numbers = get_predictions(congress_pred)\n",
        "bjp_numbers = get_predictions(bjp_pred)\n",
        "print(\"Congress Positive Tweets:\",congress_numbers)\n",
        "print(\"BJP Positive Tweets:\",bjp_numbers)"
      ],
      "metadata": {
        "colab": {
          "base_uri": "https://localhost:8080/"
        },
        "id": "6glWCEQLKJHH",
        "outputId": "69d87b0e-a750-4f5d-f459-0a7430c6c11b"
      },
      "execution_count": 12,
      "outputs": [
        {
          "output_type": "stream",
          "name": "stdout",
          "text": [
            "Congress Positive Tweets: 416\n",
            "BJP Positive Tweets: 660\n"
          ]
        }
      ]
    }
  ]
}